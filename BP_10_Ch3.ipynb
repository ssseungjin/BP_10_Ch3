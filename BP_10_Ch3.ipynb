{
  "nbformat": 4,
  "nbformat_minor": 0,
  "metadata": {
    "colab": {
      "provenance": [],
      "authorship_tag": "ABX9TyOCRRsXSzuv7lku7joAgv9V",
      "include_colab_link": true
    },
    "kernelspec": {
      "name": "python3",
      "display_name": "Python 3"
    },
    "language_info": {
      "name": "python"
    }
  },
  "cells": [
    {
      "cell_type": "markdown",
      "metadata": {
        "id": "view-in-github",
        "colab_type": "text"
      },
      "source": [
        "<a href=\"https://colab.research.google.com/github/ssseungjin/BP_10_Ch3/blob/main/BP_10_Ch3.ipynb\" target=\"_parent\"><img src=\"https://colab.research.google.com/assets/colab-badge.svg\" alt=\"Open In Colab\"/></a>"
      ]
    },
    {
      "cell_type": "code",
      "execution_count": 1,
      "metadata": {
        "colab": {
          "base_uri": "https://localhost:8080/"
        },
        "id": "XbQt58czj2Lo",
        "outputId": "639de706-45c9-45b3-8b32-7cf24b0d2f3c"
      },
      "outputs": [
        {
          "output_type": "stream",
          "name": "stdout",
          "text": [
            "x:10\n",
            "y:20\n",
            "두수의 합 : 30\n",
            "두수의 차 : -10\n",
            "두수의 곱 : 200\n",
            "두수의 평균 : 15.0\n",
            "큰 수 :  20\n",
            "작은 수 :  10\n"
          ]
        }
      ],
      "source": [
        "x = int(input(\"x:\"))\n",
        "y = int(input(\"y:\"))\n",
        " \n",
        "print(\"두수의 합 : %d\" %(x+y))\n",
        "print(\"두수의 차 : %d\" %(x-y))\n",
        "print(\"두수의 곱 : %d\" %(x*y))\n",
        "print(\"두수의 평균 : %.1lf\" %((x+y)/2))\n",
        "print(\"큰 수 : \",max(x,y))\n",
        "print(\"작은 수 : \",min(x,y))"
      ]
    },
    {
      "cell_type": "code",
      "source": [
        "r = int(input(\"r : \"))\n",
        "h = int(input(\"h : \"))\n",
        " \n",
        "print(\"원기둥의 부피 : %.2lf\" %(3.141592*r**2*h))"
      ],
      "metadata": {
        "colab": {
          "base_uri": "https://localhost:8080/"
        },
        "id": "iHnH3L3-ka0y",
        "outputId": "69004453-9837-41e5-b0a7-1f6b8de65f4a"
      },
      "execution_count": 2,
      "outputs": [
        {
          "output_type": "stream",
          "name": "stdout",
          "text": [
            "r : 10\n",
            "h : 100\n",
            "원기둥의 부피 : 31415.92\n"
          ]
        }
      ]
    },
    {
      "cell_type": "code",
      "source": [
        "number = int(input(\"정수를 입력하시오: \"))\n",
        "n=0\n",
        " \n",
        "n += number % 10\n",
        "number //=10\n",
        "n += number % 10\n",
        "number //=10\n",
        "n += number % 10\n",
        "number //=10\n",
        "n += number % 10\n",
        "number //=10\n",
        " \n",
        "print(\"자리수의 합 :\",n)"
      ],
      "metadata": {
        "colab": {
          "base_uri": "https://localhost:8080/"
        },
        "id": "ymgaO2iMkf2k",
        "outputId": "11a73a41-8004-4c7f-adff-c59e6c7f42cc"
      },
      "execution_count": 3,
      "outputs": [
        {
          "output_type": "stream",
          "name": "stdout",
          "text": [
            "정수를 입력하시오: 1234\n",
            "자리수의 합 : 10\n"
          ]
        }
      ]
    },
    {
      "cell_type": "code",
      "source": [
        "x1 = int(input(\"x1 : \"))\n",
        "y1 = int(input(\"y1 : \"))\n",
        "x2 = int(input(\"x2 : \"))\n",
        "y2 = int(input(\"y2 : \"))\n",
        " \n",
        "street = ( ((x1-x2)**2) + ((y1-y2)**2) )**0.5\n",
        " \n",
        "print(\"두점 사이의 거리 = \", street)"
      ],
      "metadata": {
        "colab": {
          "base_uri": "https://localhost:8080/"
        },
        "id": "hJGW6v_QkjvI",
        "outputId": "bc02434b-e660-47aa-b008-2e984833e9fc"
      },
      "execution_count": 4,
      "outputs": [
        {
          "output_type": "stream",
          "name": "stdout",
          "text": [
            "x1 : 0\n",
            "y1 : 0\n",
            "x2 : 100\n",
            "y2 : 100\n",
            "두점 사이의 거리 =  141.4213562373095\n"
          ]
        }
      ]
    },
    {
      "cell_type": "code",
      "source": [
        "import time\n",
        " \n",
        "toDay = time.strftime(\"%H시 %M분\", time.localtime(time.time()))\n",
        " \n",
        "print(\"현재 시간 :\", toDay)\n"
      ],
      "metadata": {
        "colab": {
          "base_uri": "https://localhost:8080/"
        },
        "id": "A8unCtTXktb9",
        "outputId": "59bb2ea3-3381-49f4-d4db-4538835f1770"
      },
      "execution_count": 5,
      "outputs": [
        {
          "output_type": "stream",
          "name": "stdout",
          "text": [
            "현재 시간 : 11시 35분\n"
          ]
        }
      ]
    },
    {
      "cell_type": "code",
      "source": [
        "weight = int(input(\"물체의 무게를 입력하시오(킬로그램) : \"))\n",
        " \n",
        "speed = int(input(\"물체의 속도를 입력하시오(미터/초) : \"))\n",
        " \n",
        "print(\"물체는 %.1lf (줄)의 에너지를 가지고 있다.\" %(1/2*weight*speed**2))\n",
        " "
      ],
      "metadata": {
        "colab": {
          "base_uri": "https://localhost:8080/"
        },
        "id": "qwXwjcsVkxha",
        "outputId": "b3df0835-8366-4b74-ce98-df79e22cfdf4"
      },
      "execution_count": 6,
      "outputs": [
        {
          "output_type": "stream",
          "name": "stdout",
          "text": [
            "물체의 무게를 입력하시오(킬로그램) : 10\n",
            "물체의 속도를 입력하시오(미터/초) : 100\n",
            "물체는 50000.0 (줄)의 에너지를 가지고 있다.\n"
          ]
        }
      ]
    }
  ]
}